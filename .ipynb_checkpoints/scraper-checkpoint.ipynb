{
 "cells": [
  {
   "cell_type": "code",
   "execution_count": 19,
   "id": "acbbf483-e027-437d-8ce6-81f177a0e728",
   "metadata": {},
   "outputs": [],
   "source": [
    "import requests\n",
    "import pandas as pd\n",
    "import time\n",
    "from bs4 import BeautifulSoup"
   ]
  },
  {
   "cell_type": "code",
   "execution_count": 20,
   "id": "2f06232e-e83f-4632-b59b-5aa53f326605",
   "metadata": {},
   "outputs": [],
   "source": [
    "url_sample = \"https://www.basketball-reference.com/leagues/NBA_{}.html\" #The url string created to modify and scrape\n",
    "years = list(range(1994,2025))#Range of years desired"
   ]
  },
  {
   "cell_type": "code",
   "execution_count": 21,
   "id": "a68157e4-cb94-4451-9bcc-b08425def44c",
   "metadata": {},
   "outputs": [],
   "source": [
    "for year in years:\n",
    "    get_url = url_sample.format(year)\n",
    "    get_data = requests.get(get_url)#Retrieve url for each year while replacing string\n",
    "\n",
    "    with open(\"/Users/rohan/nbachampionshippredictor/{}.html\".format(year), \"w+\") as f:\n",
    "        f.write(get_data.text)#Inserting code into my users file"
   ]
  },
  {
   "cell_type": "code",
   "execution_count": 22,
   "id": "e2730742-4fc4-4f15-8cc5-836bfc0b68c6",
   "metadata": {},
   "outputs": [
    {
     "name": "stderr",
     "output_type": "stream",
     "text": [
      "/var/folders/1p/__j959_x2nv6y5fd5h67zt9c0000gn/T/ipykernel_15899/1629926839.py:9: FutureWarning: Passing literal html to 'read_html' is deprecated and will be removed in a future version. To read from a literal string, wrap it in a 'StringIO' object.\n",
      "  advanced_league_stats = pd.read_html(str(advanced_league_table))[0]\n",
      "/var/folders/1p/__j959_x2nv6y5fd5h67zt9c0000gn/T/ipykernel_15899/1629926839.py:9: FutureWarning: Passing literal html to 'read_html' is deprecated and will be removed in a future version. To read from a literal string, wrap it in a 'StringIO' object.\n",
      "  advanced_league_stats = pd.read_html(str(advanced_league_table))[0]\n",
      "/var/folders/1p/__j959_x2nv6y5fd5h67zt9c0000gn/T/ipykernel_15899/1629926839.py:9: FutureWarning: Passing literal html to 'read_html' is deprecated and will be removed in a future version. To read from a literal string, wrap it in a 'StringIO' object.\n",
      "  advanced_league_stats = pd.read_html(str(advanced_league_table))[0]\n",
      "/var/folders/1p/__j959_x2nv6y5fd5h67zt9c0000gn/T/ipykernel_15899/1629926839.py:9: FutureWarning: Passing literal html to 'read_html' is deprecated and will be removed in a future version. To read from a literal string, wrap it in a 'StringIO' object.\n",
      "  advanced_league_stats = pd.read_html(str(advanced_league_table))[0]\n",
      "/var/folders/1p/__j959_x2nv6y5fd5h67zt9c0000gn/T/ipykernel_15899/1629926839.py:9: FutureWarning: Passing literal html to 'read_html' is deprecated and will be removed in a future version. To read from a literal string, wrap it in a 'StringIO' object.\n",
      "  advanced_league_stats = pd.read_html(str(advanced_league_table))[0]\n",
      "/var/folders/1p/__j959_x2nv6y5fd5h67zt9c0000gn/T/ipykernel_15899/1629926839.py:9: FutureWarning: Passing literal html to 'read_html' is deprecated and will be removed in a future version. To read from a literal string, wrap it in a 'StringIO' object.\n",
      "  advanced_league_stats = pd.read_html(str(advanced_league_table))[0]\n",
      "/var/folders/1p/__j959_x2nv6y5fd5h67zt9c0000gn/T/ipykernel_15899/1629926839.py:9: FutureWarning: Passing literal html to 'read_html' is deprecated and will be removed in a future version. To read from a literal string, wrap it in a 'StringIO' object.\n",
      "  advanced_league_stats = pd.read_html(str(advanced_league_table))[0]\n",
      "/var/folders/1p/__j959_x2nv6y5fd5h67zt9c0000gn/T/ipykernel_15899/1629926839.py:9: FutureWarning: Passing literal html to 'read_html' is deprecated and will be removed in a future version. To read from a literal string, wrap it in a 'StringIO' object.\n",
      "  advanced_league_stats = pd.read_html(str(advanced_league_table))[0]\n",
      "/var/folders/1p/__j959_x2nv6y5fd5h67zt9c0000gn/T/ipykernel_15899/1629926839.py:9: FutureWarning: Passing literal html to 'read_html' is deprecated and will be removed in a future version. To read from a literal string, wrap it in a 'StringIO' object.\n",
      "  advanced_league_stats = pd.read_html(str(advanced_league_table))[0]\n",
      "/var/folders/1p/__j959_x2nv6y5fd5h67zt9c0000gn/T/ipykernel_15899/1629926839.py:9: FutureWarning: Passing literal html to 'read_html' is deprecated and will be removed in a future version. To read from a literal string, wrap it in a 'StringIO' object.\n",
      "  advanced_league_stats = pd.read_html(str(advanced_league_table))[0]\n",
      "/var/folders/1p/__j959_x2nv6y5fd5h67zt9c0000gn/T/ipykernel_15899/1629926839.py:9: FutureWarning: Passing literal html to 'read_html' is deprecated and will be removed in a future version. To read from a literal string, wrap it in a 'StringIO' object.\n",
      "  advanced_league_stats = pd.read_html(str(advanced_league_table))[0]\n",
      "/var/folders/1p/__j959_x2nv6y5fd5h67zt9c0000gn/T/ipykernel_15899/1629926839.py:9: FutureWarning: Passing literal html to 'read_html' is deprecated and will be removed in a future version. To read from a literal string, wrap it in a 'StringIO' object.\n",
      "  advanced_league_stats = pd.read_html(str(advanced_league_table))[0]\n",
      "/var/folders/1p/__j959_x2nv6y5fd5h67zt9c0000gn/T/ipykernel_15899/1629926839.py:9: FutureWarning: Passing literal html to 'read_html' is deprecated and will be removed in a future version. To read from a literal string, wrap it in a 'StringIO' object.\n",
      "  advanced_league_stats = pd.read_html(str(advanced_league_table))[0]\n",
      "/var/folders/1p/__j959_x2nv6y5fd5h67zt9c0000gn/T/ipykernel_15899/1629926839.py:9: FutureWarning: Passing literal html to 'read_html' is deprecated and will be removed in a future version. To read from a literal string, wrap it in a 'StringIO' object.\n",
      "  advanced_league_stats = pd.read_html(str(advanced_league_table))[0]\n",
      "/var/folders/1p/__j959_x2nv6y5fd5h67zt9c0000gn/T/ipykernel_15899/1629926839.py:9: FutureWarning: Passing literal html to 'read_html' is deprecated and will be removed in a future version. To read from a literal string, wrap it in a 'StringIO' object.\n",
      "  advanced_league_stats = pd.read_html(str(advanced_league_table))[0]\n",
      "/var/folders/1p/__j959_x2nv6y5fd5h67zt9c0000gn/T/ipykernel_15899/1629926839.py:9: FutureWarning: Passing literal html to 'read_html' is deprecated and will be removed in a future version. To read from a literal string, wrap it in a 'StringIO' object.\n",
      "  advanced_league_stats = pd.read_html(str(advanced_league_table))[0]\n",
      "/var/folders/1p/__j959_x2nv6y5fd5h67zt9c0000gn/T/ipykernel_15899/1629926839.py:9: FutureWarning: Passing literal html to 'read_html' is deprecated and will be removed in a future version. To read from a literal string, wrap it in a 'StringIO' object.\n",
      "  advanced_league_stats = pd.read_html(str(advanced_league_table))[0]\n",
      "/var/folders/1p/__j959_x2nv6y5fd5h67zt9c0000gn/T/ipykernel_15899/1629926839.py:9: FutureWarning: Passing literal html to 'read_html' is deprecated and will be removed in a future version. To read from a literal string, wrap it in a 'StringIO' object.\n",
      "  advanced_league_stats = pd.read_html(str(advanced_league_table))[0]\n",
      "/var/folders/1p/__j959_x2nv6y5fd5h67zt9c0000gn/T/ipykernel_15899/1629926839.py:9: FutureWarning: Passing literal html to 'read_html' is deprecated and will be removed in a future version. To read from a literal string, wrap it in a 'StringIO' object.\n",
      "  advanced_league_stats = pd.read_html(str(advanced_league_table))[0]\n",
      "/var/folders/1p/__j959_x2nv6y5fd5h67zt9c0000gn/T/ipykernel_15899/1629926839.py:9: FutureWarning: Passing literal html to 'read_html' is deprecated and will be removed in a future version. To read from a literal string, wrap it in a 'StringIO' object.\n",
      "  advanced_league_stats = pd.read_html(str(advanced_league_table))[0]\n",
      "/var/folders/1p/__j959_x2nv6y5fd5h67zt9c0000gn/T/ipykernel_15899/1629926839.py:9: FutureWarning: Passing literal html to 'read_html' is deprecated and will be removed in a future version. To read from a literal string, wrap it in a 'StringIO' object.\n",
      "  advanced_league_stats = pd.read_html(str(advanced_league_table))[0]\n",
      "/var/folders/1p/__j959_x2nv6y5fd5h67zt9c0000gn/T/ipykernel_15899/1629926839.py:9: FutureWarning: Passing literal html to 'read_html' is deprecated and will be removed in a future version. To read from a literal string, wrap it in a 'StringIO' object.\n",
      "  advanced_league_stats = pd.read_html(str(advanced_league_table))[0]\n",
      "/var/folders/1p/__j959_x2nv6y5fd5h67zt9c0000gn/T/ipykernel_15899/1629926839.py:9: FutureWarning: Passing literal html to 'read_html' is deprecated and will be removed in a future version. To read from a literal string, wrap it in a 'StringIO' object.\n",
      "  advanced_league_stats = pd.read_html(str(advanced_league_table))[0]\n",
      "/var/folders/1p/__j959_x2nv6y5fd5h67zt9c0000gn/T/ipykernel_15899/1629926839.py:9: FutureWarning: Passing literal html to 'read_html' is deprecated and will be removed in a future version. To read from a literal string, wrap it in a 'StringIO' object.\n",
      "  advanced_league_stats = pd.read_html(str(advanced_league_table))[0]\n",
      "/var/folders/1p/__j959_x2nv6y5fd5h67zt9c0000gn/T/ipykernel_15899/1629926839.py:9: FutureWarning: Passing literal html to 'read_html' is deprecated and will be removed in a future version. To read from a literal string, wrap it in a 'StringIO' object.\n",
      "  advanced_league_stats = pd.read_html(str(advanced_league_table))[0]\n",
      "/var/folders/1p/__j959_x2nv6y5fd5h67zt9c0000gn/T/ipykernel_15899/1629926839.py:9: FutureWarning: Passing literal html to 'read_html' is deprecated and will be removed in a future version. To read from a literal string, wrap it in a 'StringIO' object.\n",
      "  advanced_league_stats = pd.read_html(str(advanced_league_table))[0]\n",
      "/var/folders/1p/__j959_x2nv6y5fd5h67zt9c0000gn/T/ipykernel_15899/1629926839.py:9: FutureWarning: Passing literal html to 'read_html' is deprecated and will be removed in a future version. To read from a literal string, wrap it in a 'StringIO' object.\n",
      "  advanced_league_stats = pd.read_html(str(advanced_league_table))[0]\n",
      "/var/folders/1p/__j959_x2nv6y5fd5h67zt9c0000gn/T/ipykernel_15899/1629926839.py:9: FutureWarning: Passing literal html to 'read_html' is deprecated and will be removed in a future version. To read from a literal string, wrap it in a 'StringIO' object.\n",
      "  advanced_league_stats = pd.read_html(str(advanced_league_table))[0]\n",
      "/var/folders/1p/__j959_x2nv6y5fd5h67zt9c0000gn/T/ipykernel_15899/1629926839.py:9: FutureWarning: Passing literal html to 'read_html' is deprecated and will be removed in a future version. To read from a literal string, wrap it in a 'StringIO' object.\n",
      "  advanced_league_stats = pd.read_html(str(advanced_league_table))[0]\n",
      "/var/folders/1p/__j959_x2nv6y5fd5h67zt9c0000gn/T/ipykernel_15899/1629926839.py:9: FutureWarning: Passing literal html to 'read_html' is deprecated and will be removed in a future version. To read from a literal string, wrap it in a 'StringIO' object.\n",
      "  advanced_league_stats = pd.read_html(str(advanced_league_table))[0]\n",
      "/var/folders/1p/__j959_x2nv6y5fd5h67zt9c0000gn/T/ipykernel_15899/1629926839.py:9: FutureWarning: Passing literal html to 'read_html' is deprecated and will be removed in a future version. To read from a literal string, wrap it in a 'StringIO' object.\n",
      "  advanced_league_stats = pd.read_html(str(advanced_league_table))[0]\n"
     ]
    }
   ],
   "source": [
    "df = []\n",
    "x = 0\n",
    "for year in years:\n",
    "    with open(\"/Users/rohan/nbachampionshippredictor/{}.html\".format(year)) as f:#While opening the code, allow the option to read\n",
    "        page = f.read()\n",
    "    soup = BeautifulSoup(page, \"html.parser\")\n",
    "    soup.find('tr', class_=\"over_header\").decompose() #Decompose unnecessary tables\n",
    "    advanced_league_table = soup.find(id=\"advanced-team\") #Use beautifulsoup to find the table to decompose\n",
    "    advanced_league_stats = pd.read_html(str(advanced_league_table))[0]\n",
    "    advanced_league_stats[\"Year\"] = year\n",
    "    advanced_league_stats[\"Won Championship\"] = x\n",
    "    advanced_league_stats[\"Rounds Played\"] = x #Generate additional columns per table\n",
    "    time.sleep(15) #A random wait time to avoid timing out, however, it will usually time out past the 30th scrape\n",
    "\n",
    "    \n",
    "    df.append(advanced_league_stats) #Append the dataframe together"
   ]
  },
  {
   "cell_type": "code",
   "execution_count": 23,
   "id": "f456b8b8-0eda-4949-91d6-8543651868b8",
   "metadata": {},
   "outputs": [],
   "source": [
    "advanced_league = pd.concat(df) #Concatenate the dataframe using pandas into advanced_league"
   ]
  },
  {
   "cell_type": "code",
   "execution_count": 24,
   "id": "36560a8d-c425-4670-891a-86e9845eafdd",
   "metadata": {},
   "outputs": [],
   "source": [
    "advanced_league['Team'] = advanced_league['Team'].str.replace('*', '') #Remove the asteriks"
   ]
  },
  {
   "cell_type": "code",
   "execution_count": 25,
   "id": "e2185dfe-5946-4911-80a8-106e562702e0",
   "metadata": {},
   "outputs": [],
   "source": [
    "advanced_league.to_csv(\"advanced_league_results.csv\") #Turn the table into a CSV file"
   ]
  }
 ],
 "metadata": {
  "kernelspec": {
   "display_name": "Python 3 (ipykernel)",
   "language": "python",
   "name": "python3"
  },
  "language_info": {
   "codemirror_mode": {
    "name": "ipython",
    "version": 3
   },
   "file_extension": ".py",
   "mimetype": "text/x-python",
   "name": "python",
   "nbconvert_exporter": "python",
   "pygments_lexer": "ipython3",
   "version": "3.12.1"
  }
 },
 "nbformat": 4,
 "nbformat_minor": 5
}
