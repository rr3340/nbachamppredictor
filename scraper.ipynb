{
 "cells": [
  {
   "cell_type": "code",
   "execution_count": 5,
   "id": "acbbf483-e027-437d-8ce6-81f177a0e728",
   "metadata": {},
   "outputs": [],
   "source": [
    "import requests\n",
    "import pandas as pd\n",
    "import time\n",
    "from bs4 import BeautifulSoup"
   ]
  },
  {
   "cell_type": "code",
   "execution_count": 6,
   "id": "2f06232e-e83f-4632-b59b-5aa53f326605",
   "metadata": {},
   "outputs": [],
   "source": [
    "url_sample = \"https://www.basketball-reference.com/leagues/NBA_{}.html\" #The url string created to modify and scrape\n",
    "years = list(range(1994,2025))#Range of years desired"
   ]
  },
  {
   "cell_type": "code",
   "execution_count": 7,
   "id": "a68157e4-cb94-4451-9bcc-b08425def44c",
   "metadata": {},
   "outputs": [],
   "source": [
    "for year in years:\n",
    "    get_url = url_sample.format(year)\n",
    "    get_data = requests.get(get_url)#Retrieve url for each year while replacing string\n",
    "\n",
    "    with open(\"/Users/rohan/nbachamppredictor/{}.html\".format(year), \"w+\") as f:\n",
    "        f.write(get_data.text)#Inserting code into my users file"
   ]
  },
  {
   "cell_type": "code",
   "execution_count": 8,
   "id": "e2730742-4fc4-4f15-8cc5-836bfc0b68c6",
   "metadata": {},
   "outputs": [
    {
     "name": "stderr",
     "output_type": "stream",
     "text": [
      "/var/folders/1p/__j959_x2nv6y5fd5h67zt9c0000gn/T/ipykernel_26185/3731181886.py:9: FutureWarning: Passing literal html to 'read_html' is deprecated and will be removed in a future version. To read from a literal string, wrap it in a 'StringIO' object.\n",
      "  advanced_league_stats = pd.read_html(str(advanced_league_table))[0]\n",
      "/var/folders/1p/__j959_x2nv6y5fd5h67zt9c0000gn/T/ipykernel_26185/3731181886.py:9: FutureWarning: Passing literal html to 'read_html' is deprecated and will be removed in a future version. To read from a literal string, wrap it in a 'StringIO' object.\n",
      "  advanced_league_stats = pd.read_html(str(advanced_league_table))[0]\n",
      "/var/folders/1p/__j959_x2nv6y5fd5h67zt9c0000gn/T/ipykernel_26185/3731181886.py:9: FutureWarning: Passing literal html to 'read_html' is deprecated and will be removed in a future version. To read from a literal string, wrap it in a 'StringIO' object.\n",
      "  advanced_league_stats = pd.read_html(str(advanced_league_table))[0]\n",
      "/var/folders/1p/__j959_x2nv6y5fd5h67zt9c0000gn/T/ipykernel_26185/3731181886.py:9: FutureWarning: Passing literal html to 'read_html' is deprecated and will be removed in a future version. To read from a literal string, wrap it in a 'StringIO' object.\n",
      "  advanced_league_stats = pd.read_html(str(advanced_league_table))[0]\n",
      "/var/folders/1p/__j959_x2nv6y5fd5h67zt9c0000gn/T/ipykernel_26185/3731181886.py:9: FutureWarning: Passing literal html to 'read_html' is deprecated and will be removed in a future version. To read from a literal string, wrap it in a 'StringIO' object.\n",
      "  advanced_league_stats = pd.read_html(str(advanced_league_table))[0]\n",
      "/var/folders/1p/__j959_x2nv6y5fd5h67zt9c0000gn/T/ipykernel_26185/3731181886.py:9: FutureWarning: Passing literal html to 'read_html' is deprecated and will be removed in a future version. To read from a literal string, wrap it in a 'StringIO' object.\n",
      "  advanced_league_stats = pd.read_html(str(advanced_league_table))[0]\n",
      "/var/folders/1p/__j959_x2nv6y5fd5h67zt9c0000gn/T/ipykernel_26185/3731181886.py:9: FutureWarning: Passing literal html to 'read_html' is deprecated and will be removed in a future version. To read from a literal string, wrap it in a 'StringIO' object.\n",
      "  advanced_league_stats = pd.read_html(str(advanced_league_table))[0]\n",
      "/var/folders/1p/__j959_x2nv6y5fd5h67zt9c0000gn/T/ipykernel_26185/3731181886.py:9: FutureWarning: Passing literal html to 'read_html' is deprecated and will be removed in a future version. To read from a literal string, wrap it in a 'StringIO' object.\n",
      "  advanced_league_stats = pd.read_html(str(advanced_league_table))[0]\n",
      "/var/folders/1p/__j959_x2nv6y5fd5h67zt9c0000gn/T/ipykernel_26185/3731181886.py:9: FutureWarning: Passing literal html to 'read_html' is deprecated and will be removed in a future version. To read from a literal string, wrap it in a 'StringIO' object.\n",
      "  advanced_league_stats = pd.read_html(str(advanced_league_table))[0]\n",
      "/var/folders/1p/__j959_x2nv6y5fd5h67zt9c0000gn/T/ipykernel_26185/3731181886.py:9: FutureWarning: Passing literal html to 'read_html' is deprecated and will be removed in a future version. To read from a literal string, wrap it in a 'StringIO' object.\n",
      "  advanced_league_stats = pd.read_html(str(advanced_league_table))[0]\n",
      "/var/folders/1p/__j959_x2nv6y5fd5h67zt9c0000gn/T/ipykernel_26185/3731181886.py:9: FutureWarning: Passing literal html to 'read_html' is deprecated and will be removed in a future version. To read from a literal string, wrap it in a 'StringIO' object.\n",
      "  advanced_league_stats = pd.read_html(str(advanced_league_table))[0]\n",
      "/var/folders/1p/__j959_x2nv6y5fd5h67zt9c0000gn/T/ipykernel_26185/3731181886.py:9: FutureWarning: Passing literal html to 'read_html' is deprecated and will be removed in a future version. To read from a literal string, wrap it in a 'StringIO' object.\n",
      "  advanced_league_stats = pd.read_html(str(advanced_league_table))[0]\n",
      "/var/folders/1p/__j959_x2nv6y5fd5h67zt9c0000gn/T/ipykernel_26185/3731181886.py:9: FutureWarning: Passing literal html to 'read_html' is deprecated and will be removed in a future version. To read from a literal string, wrap it in a 'StringIO' object.\n",
      "  advanced_league_stats = pd.read_html(str(advanced_league_table))[0]\n",
      "/var/folders/1p/__j959_x2nv6y5fd5h67zt9c0000gn/T/ipykernel_26185/3731181886.py:9: FutureWarning: Passing literal html to 'read_html' is deprecated and will be removed in a future version. To read from a literal string, wrap it in a 'StringIO' object.\n",
      "  advanced_league_stats = pd.read_html(str(advanced_league_table))[0]\n",
      "/var/folders/1p/__j959_x2nv6y5fd5h67zt9c0000gn/T/ipykernel_26185/3731181886.py:9: FutureWarning: Passing literal html to 'read_html' is deprecated and will be removed in a future version. To read from a literal string, wrap it in a 'StringIO' object.\n",
      "  advanced_league_stats = pd.read_html(str(advanced_league_table))[0]\n",
      "/var/folders/1p/__j959_x2nv6y5fd5h67zt9c0000gn/T/ipykernel_26185/3731181886.py:9: FutureWarning: Passing literal html to 'read_html' is deprecated and will be removed in a future version. To read from a literal string, wrap it in a 'StringIO' object.\n",
      "  advanced_league_stats = pd.read_html(str(advanced_league_table))[0]\n",
      "/var/folders/1p/__j959_x2nv6y5fd5h67zt9c0000gn/T/ipykernel_26185/3731181886.py:9: FutureWarning: Passing literal html to 'read_html' is deprecated and will be removed in a future version. To read from a literal string, wrap it in a 'StringIO' object.\n",
      "  advanced_league_stats = pd.read_html(str(advanced_league_table))[0]\n",
      "/var/folders/1p/__j959_x2nv6y5fd5h67zt9c0000gn/T/ipykernel_26185/3731181886.py:9: FutureWarning: Passing literal html to 'read_html' is deprecated and will be removed in a future version. To read from a literal string, wrap it in a 'StringIO' object.\n",
      "  advanced_league_stats = pd.read_html(str(advanced_league_table))[0]\n",
      "/var/folders/1p/__j959_x2nv6y5fd5h67zt9c0000gn/T/ipykernel_26185/3731181886.py:9: FutureWarning: Passing literal html to 'read_html' is deprecated and will be removed in a future version. To read from a literal string, wrap it in a 'StringIO' object.\n",
      "  advanced_league_stats = pd.read_html(str(advanced_league_table))[0]\n",
      "/var/folders/1p/__j959_x2nv6y5fd5h67zt9c0000gn/T/ipykernel_26185/3731181886.py:9: FutureWarning: Passing literal html to 'read_html' is deprecated and will be removed in a future version. To read from a literal string, wrap it in a 'StringIO' object.\n",
      "  advanced_league_stats = pd.read_html(str(advanced_league_table))[0]\n",
      "/var/folders/1p/__j959_x2nv6y5fd5h67zt9c0000gn/T/ipykernel_26185/3731181886.py:9: FutureWarning: Passing literal html to 'read_html' is deprecated and will be removed in a future version. To read from a literal string, wrap it in a 'StringIO' object.\n",
      "  advanced_league_stats = pd.read_html(str(advanced_league_table))[0]\n",
      "/var/folders/1p/__j959_x2nv6y5fd5h67zt9c0000gn/T/ipykernel_26185/3731181886.py:9: FutureWarning: Passing literal html to 'read_html' is deprecated and will be removed in a future version. To read from a literal string, wrap it in a 'StringIO' object.\n",
      "  advanced_league_stats = pd.read_html(str(advanced_league_table))[0]\n",
      "/var/folders/1p/__j959_x2nv6y5fd5h67zt9c0000gn/T/ipykernel_26185/3731181886.py:9: FutureWarning: Passing literal html to 'read_html' is deprecated and will be removed in a future version. To read from a literal string, wrap it in a 'StringIO' object.\n",
      "  advanced_league_stats = pd.read_html(str(advanced_league_table))[0]\n",
      "/var/folders/1p/__j959_x2nv6y5fd5h67zt9c0000gn/T/ipykernel_26185/3731181886.py:9: FutureWarning: Passing literal html to 'read_html' is deprecated and will be removed in a future version. To read from a literal string, wrap it in a 'StringIO' object.\n",
      "  advanced_league_stats = pd.read_html(str(advanced_league_table))[0]\n",
      "/var/folders/1p/__j959_x2nv6y5fd5h67zt9c0000gn/T/ipykernel_26185/3731181886.py:9: FutureWarning: Passing literal html to 'read_html' is deprecated and will be removed in a future version. To read from a literal string, wrap it in a 'StringIO' object.\n",
      "  advanced_league_stats = pd.read_html(str(advanced_league_table))[0]\n",
      "/var/folders/1p/__j959_x2nv6y5fd5h67zt9c0000gn/T/ipykernel_26185/3731181886.py:9: FutureWarning: Passing literal html to 'read_html' is deprecated and will be removed in a future version. To read from a literal string, wrap it in a 'StringIO' object.\n",
      "  advanced_league_stats = pd.read_html(str(advanced_league_table))[0]\n",
      "/var/folders/1p/__j959_x2nv6y5fd5h67zt9c0000gn/T/ipykernel_26185/3731181886.py:9: FutureWarning: Passing literal html to 'read_html' is deprecated and will be removed in a future version. To read from a literal string, wrap it in a 'StringIO' object.\n",
      "  advanced_league_stats = pd.read_html(str(advanced_league_table))[0]\n",
      "/var/folders/1p/__j959_x2nv6y5fd5h67zt9c0000gn/T/ipykernel_26185/3731181886.py:9: FutureWarning: Passing literal html to 'read_html' is deprecated and will be removed in a future version. To read from a literal string, wrap it in a 'StringIO' object.\n",
      "  advanced_league_stats = pd.read_html(str(advanced_league_table))[0]\n",
      "/var/folders/1p/__j959_x2nv6y5fd5h67zt9c0000gn/T/ipykernel_26185/3731181886.py:9: FutureWarning: Passing literal html to 'read_html' is deprecated and will be removed in a future version. To read from a literal string, wrap it in a 'StringIO' object.\n",
      "  advanced_league_stats = pd.read_html(str(advanced_league_table))[0]\n",
      "/var/folders/1p/__j959_x2nv6y5fd5h67zt9c0000gn/T/ipykernel_26185/3731181886.py:9: FutureWarning: Passing literal html to 'read_html' is deprecated and will be removed in a future version. To read from a literal string, wrap it in a 'StringIO' object.\n",
      "  advanced_league_stats = pd.read_html(str(advanced_league_table))[0]\n"
     ]
    },
    {
     "ename": "AttributeError",
     "evalue": "'NoneType' object has no attribute 'decompose'",
     "output_type": "error",
     "traceback": [
      "\u001b[0;31m---------------------------------------------------------------------------\u001b[0m",
      "\u001b[0;31mAttributeError\u001b[0m                            Traceback (most recent call last)",
      "Cell \u001b[0;32mIn[8], line 7\u001b[0m\n\u001b[1;32m      5\u001b[0m     page \u001b[38;5;241m=\u001b[39m f\u001b[38;5;241m.\u001b[39mread()\n\u001b[1;32m      6\u001b[0m soup \u001b[38;5;241m=\u001b[39m BeautifulSoup(page, \u001b[38;5;124m\"\u001b[39m\u001b[38;5;124mhtml.parser\u001b[39m\u001b[38;5;124m\"\u001b[39m)\n\u001b[0;32m----> 7\u001b[0m \u001b[43msoup\u001b[49m\u001b[38;5;241;43m.\u001b[39;49m\u001b[43mfind\u001b[49m\u001b[43m(\u001b[49m\u001b[38;5;124;43m'\u001b[39;49m\u001b[38;5;124;43mtr\u001b[39;49m\u001b[38;5;124;43m'\u001b[39;49m\u001b[43m,\u001b[49m\u001b[43m \u001b[49m\u001b[43mclass_\u001b[49m\u001b[38;5;241;43m=\u001b[39;49m\u001b[38;5;124;43m\"\u001b[39;49m\u001b[38;5;124;43mover_header\u001b[39;49m\u001b[38;5;124;43m\"\u001b[39;49m\u001b[43m)\u001b[49m\u001b[38;5;241;43m.\u001b[39;49m\u001b[43mdecompose\u001b[49m() \u001b[38;5;66;03m#Decompose unnecessary tables\u001b[39;00m\n\u001b[1;32m      8\u001b[0m advanced_league_table \u001b[38;5;241m=\u001b[39m soup\u001b[38;5;241m.\u001b[39mfind(\u001b[38;5;28mid\u001b[39m\u001b[38;5;241m=\u001b[39m\u001b[38;5;124m\"\u001b[39m\u001b[38;5;124madvanced-team\u001b[39m\u001b[38;5;124m\"\u001b[39m) \u001b[38;5;66;03m#Use beautifulsoup to find the table to decompose\u001b[39;00m\n\u001b[1;32m      9\u001b[0m advanced_league_stats \u001b[38;5;241m=\u001b[39m pd\u001b[38;5;241m.\u001b[39mread_html(\u001b[38;5;28mstr\u001b[39m(advanced_league_table))[\u001b[38;5;241m0\u001b[39m]\n",
      "\u001b[0;31mAttributeError\u001b[0m: 'NoneType' object has no attribute 'decompose'"
     ]
    }
   ],
   "source": [
    "df = []\n",
    "x = 0\n",
    "for year in years:\n",
    "    with open(\"/Users/rohan/nbachamppredictor/{}.html\".format(year)) as f:#While opening the code, allow the option to read\n",
    "        page = f.read()#In the case of the user downloading, remove /Users/rohan/, the path was required for Jupyter Notebook on my Mac\n",
    "    soup = BeautifulSoup(page, \"html.parser\")\n",
    "    soup.find('tr', class_=\"over_header\").decompose() #Decompose unnecessary tables\n",
    "    advanced_league_table = soup.find(id=\"advanced-team\") #Use beautifulsoup to find the table to decompose\n",
    "    advanced_league_stats = pd.read_html(str(advanced_league_table))[0]\n",
    "    advanced_league_stats[\"Year\"] = year\n",
    "    advanced_league_stats[\"Won Championship\"] = x\n",
    "    advanced_league_stats[\"Rounds Played\"] = x #Generate additional columns per table\n",
    "    time.sleep(15) #A random wait time to avoid timing out, however, it will usually time out past the 30th scrape\n",
    "\n",
    "    \n",
    "    df.append(advanced_league_stats) #Append the dataframe together"
   ]
  },
  {
   "cell_type": "code",
   "execution_count": 9,
   "id": "f456b8b8-0eda-4949-91d6-8543651868b8",
   "metadata": {},
   "outputs": [],
   "source": [
    "advanced_league = pd.concat(df) #Concatenate the dataframe using pandas into advanced_league"
   ]
  },
  {
   "cell_type": "code",
   "execution_count": 10,
   "id": "36560a8d-c425-4670-891a-86e9845eafdd",
   "metadata": {},
   "outputs": [],
   "source": [
    "advanced_league['Team'] = advanced_league['Team'].str.replace('*', '') #Remove the asteriks"
   ]
  },
  {
   "cell_type": "code",
   "execution_count": 11,
   "id": "e2185dfe-5946-4911-80a8-106e562702e0",
   "metadata": {},
   "outputs": [],
   "source": [
    "advanced_league.to_csv(\"advanced_league_results.csv\") #Turn the table into a CSV file"
   ]
  },
  {
   "cell_type": "code",
   "execution_count": null,
   "id": "90a3bd46-70c4-4580-b26b-66e3e71503df",
   "metadata": {},
   "outputs": [],
   "source": []
  }
 ],
 "metadata": {
  "kernelspec": {
   "display_name": "Python 3 (ipykernel)",
   "language": "python",
   "name": "python3"
  },
  "language_info": {
   "codemirror_mode": {
    "name": "ipython",
    "version": 3
   },
   "file_extension": ".py",
   "mimetype": "text/x-python",
   "name": "python",
   "nbconvert_exporter": "python",
   "pygments_lexer": "ipython3",
   "version": "3.12.1"
  }
 },
 "nbformat": 4,
 "nbformat_minor": 5
}
